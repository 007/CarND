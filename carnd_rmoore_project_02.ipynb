{
 "cells": [
  {
   "cell_type": "markdown",
   "metadata": {},
   "source": [
    "# Self-Driving Car Engineer Nanodegree\n",
    "\n",
    "## Deep Learning\n",
    "\n",
    "## Project: Build a Traffic Sign Recognition Classifier\n",
    "\n",
    "In this notebook, a template is provided for you to implement your functionality in stages which is required to successfully complete this project. If additional code is required that cannot be included in the notebook, be sure that the Python code is successfully imported and included in your submission, if necessary. Sections that begin with **'Implementation'** in the header indicate where you should begin your implementation for your project. Note that some sections of implementation are optional, and will be marked with **'Optional'** in the header.\n",
    "\n",
    "In addition to implementing code, there will be questions that you must answer which relate to the project and your implementation. Each section where you will answer a question is preceded by a **'Question'** header. Carefully read each question and provide thorough answers in the following text boxes that begin with **'Answer:'**. Your project submission will be evaluated based on your answers to each of the questions and the implementation you provide.\n",
    "\n",
    ">**Note:** Code and Markdown cells can be executed using the **Shift + Enter** keyboard shortcut. In addition, Markdown cells can be edited by typically double-clicking the cell to enter edit mode."
   ]
  },
  {
   "cell_type": "markdown",
   "metadata": {},
   "source": [
    "---\n",
    "## Step 0: Load The Data"
   ]
  },
  {
   "cell_type": "code",
   "execution_count": null,
   "metadata": {
    "collapsed": true
   },
   "outputs": [],
   "source": [
    "# Load pickled data\n",
    "import pickle\n",
    "import os\n",
    "\n",
    "# need to have this to get data\n",
    "DATA_LOCATION = 'data/traffic-signs/'\n",
    "\n",
    "# can create this on-the-fly, ok if already created\n",
    "TENSOR_PATH = DATA_LOCATION + 'tf/'\n",
    "os.makedirs(TENSOR_PATH, exist_ok = True)\n",
    "\n",
    "training_file = 'train.p'\n",
    "testing_file = 'test.p'\n",
    "\n",
    "with open(DATA_LOCATION + training_file, mode='rb') as f:\n",
    "    train = pickle.load(f)\n",
    "train_features, train_labels = train['features'], train['labels']\n",
    "    \n",
    "with open(DATA_LOCATION + testing_file, mode='rb') as f:\n",
    "    test = pickle.load(f)\n",
    "X_test, y_test = test['features'], test['labels']\n"
   ]
  },
  {
   "cell_type": "markdown",
   "metadata": {},
   "source": [
    "---\n",
    "\n",
    "## Step 1: Dataset Summary & Exploration\n",
    "\n",
    "The pickled data is a dictionary with 4 key/value pairs:\n",
    "\n",
    "- `'features'` is a 4D array containing raw pixel data of the traffic sign images, (num examples, width, height, channels).\n",
    "- `'labels'` is a 2D array containing the label/class id of the traffic sign. The file `signnames.csv` contains id -> name mappings for each id.\n",
    "- `'sizes'` is a list containing tuples, (width, height) representing the the original width and height the image.\n",
    "- `'coords'` is a list containing tuples, (x1, y1, x2, y2) representing coordinates of a bounding box around the sign in the image. **THESE COORDINATES ASSUME THE ORIGINAL IMAGE. THE PICKLED DATA CONTAINS RESIZED VERSIONS (32 by 32) OF THESE IMAGES**\n",
    "\n",
    "Complete the basic data summary below."
   ]
  },
  {
   "cell_type": "code",
   "execution_count": null,
   "metadata": {
    "collapsed": false
   },
   "outputs": [],
   "source": [
    "### Replace each question mark with the appropriate value.\n",
    "\n",
    "# TODO: Number of training examples\n",
    "n_train = len(train_features)\n",
    "\n",
    "# TODO: Number of testing examples.\n",
    "n_test = len(X_test)\n",
    "\n",
    "# TODO: What's the shape of an traffic sign image?\n",
    "image_shape = (len(train_features[0]), len(train_features[0][0]), len(train_features[0][0][0]))\n",
    "\n",
    "labels = {}\n",
    "for label in train_labels:\n",
    "    if (not labels.get(label)):\n",
    "        labels[label] = 0\n",
    "    labels[label] += 1\n",
    "    \n",
    "# TODO: How many unique classes/labels there are in the dataset.\n",
    "n_classes = len(labels)\n",
    "\n",
    "print(\"Number of training examples =\", n_train)\n",
    "print(\"Number of testing examples =\", n_test)\n",
    "print(\"Image data shape =\", image_shape)\n",
    "print(\"Number of classes =\", n_classes)\n"
   ]
  },
  {
   "cell_type": "markdown",
   "metadata": {},
   "source": [
    "Visualize the German Traffic Signs Dataset using the pickled file(s). This is open ended, suggestions include: plotting traffic sign images, plotting the count of each sign, etc.\n",
    "\n",
    "The [Matplotlib](http://matplotlib.org/) [examples](http://matplotlib.org/examples/index.html) and [gallery](http://matplotlib.org/gallery.html) pages are a great resource for doing visualizations in Python.\n",
    "\n",
    "**NOTE:** It's recommended you start with something simple first. If you wish to do more, come back to it after you've completed the rest of the sections."
   ]
  },
  {
   "cell_type": "code",
   "execution_count": null,
   "metadata": {
    "collapsed": false
   },
   "outputs": [],
   "source": [
    "### Data exploration visualization goes here.\n",
    "### Feel free to use as many code cells as needed.\n",
    "import random\n",
    "import numpy as np\n",
    "import cv2\n",
    "import matplotlib.pyplot as plt\n",
    "\n",
    "# Visualizations will be shown in the notebook.\n",
    "%matplotlib inline"
   ]
  },
  {
   "cell_type": "code",
   "execution_count": null,
   "metadata": {
    "collapsed": false
   },
   "outputs": [],
   "source": [
    "\n",
    "def max_contrast(img):\n",
    "    lab_img = cv2.cvtColor(img, cv2.COLOR_RGB2LAB)\n",
    "    lab_img[:,:,0] = cv2.equalizeHist(lab_img[:,:,0])\n",
    "    return cv2.cvtColor(lab_img, cv2.COLOR_LAB2RGB)\n",
    "\n",
    "def image_pair(img_in):\n",
    "    contrast = max_contrast(img_in)\n",
    "    return np.hstack((img_in.squeeze(), contrast.squeeze()))\n",
    "\n",
    "print(\"Random image:\")\n",
    "\n",
    "for i in range(8):\n",
    "    index = random.randint(0, len(train_features))\n",
    "    image = train_features[index]\n",
    "\n",
    "    plt.figure(figsize=(4,4))\n",
    "    plt.imshow(image_pair(image))\n",
    "\n",
    "#plt.show()"
   ]
  },
  {
   "cell_type": "code",
   "execution_count": null,
   "metadata": {
    "collapsed": false
   },
   "outputs": [],
   "source": [
    "print(\"Label frequency:\")\n",
    "plt.plot(list(labels.keys()),list(labels.values()))\n",
    "plt.show()"
   ]
  },
  {
   "cell_type": "code",
   "execution_count": null,
   "metadata": {
    "collapsed": false
   },
   "outputs": [],
   "source": [
    "import operator\n",
    "print(\"Descending by frequency:\")\n",
    "labels_by_frequency = list(map(lambda x: x[1], sorted(labels.items(), key=operator.itemgetter(1), reverse = True)))\n",
    "plt.plot(labels_by_frequency)\n",
    "plt.show()"
   ]
  },
  {
   "cell_type": "code",
   "execution_count": null,
   "metadata": {
    "collapsed": false
   },
   "outputs": [],
   "source": [
    "print(\"Data:\")\n",
    "freq_min, freq_max, _, _ = cv2.minMaxLoc(np.array(list(labels.values())))\n",
    "print(\"Min frequency:\", freq_min, \"\\nMax frequency:\", freq_max, \"\\nRatio:\", freq_max / freq_min, \"\\n\")\n",
    "for k in labels.keys():\n",
    "    print(\"Label: {k}, Frequency: {v}\".format_map({'k': k, 'v': labels[k]}))\n"
   ]
  },
  {
   "cell_type": "markdown",
   "metadata": {},
   "source": [
    "----\n",
    "\n",
    "## Step 2: Design and Test a Model Architecture\n",
    "\n",
    "Design and implement a deep learning model that learns to recognize traffic signs. Train and test your model on the [German Traffic Sign Dataset](http://benchmark.ini.rub.de/?section=gtsrb&subsection=dataset).\n",
    "\n",
    "There are various aspects to consider when thinking about this problem:\n",
    "\n",
    "- Neural network architecture\n",
    "- Play around preprocessing techniques (normalization, rgb to grayscale, etc)\n",
    "- Number of examples per label (some have more than others).\n",
    "- Generate fake data.\n",
    "\n",
    "Here is an example of a [published baseline model on this problem](http://yann.lecun.com/exdb/publis/pdf/sermanet-ijcnn-11.pdf). It's not required to be familiar with the approach used in the paper but, it's good practice to try to read papers like these.\n",
    "\n",
    "**NOTE:** The LeNet-5 implementation shown in the [classroom](https://classroom.udacity.com/nanodegrees/nd013/parts/fbf77062-5703-404e-b60c-95b78b2f3f9e/modules/6df7ae49-c61c-4bb2-a23e-6527e69209ec/lessons/601ae704-1035-4287-8b11-e2c2716217ad/concepts/d4aca031-508f-4e0b-b493-e7b706120f81) at the end of the CNN lesson is a solid starting point. You'll have to change the number of classes and possibly the preprocessing, but aside from that it's plug and play!"
   ]
  },
  {
   "cell_type": "markdown",
   "metadata": {},
   "source": [
    "### Implementation\n",
    "\n",
    "Use the code cell (or multiple code cells, if necessary) to implement the first step of your project. Once you have completed your implementation and are satisfied with the results, be sure to thoroughly answer the questions that follow."
   ]
  },
  {
   "cell_type": "code",
   "execution_count": null,
   "metadata": {
    "collapsed": false
   },
   "outputs": [],
   "source": [
    "### Preprocess the data here.\n",
    "### Feel free to use as many code cells as needed.\n",
    "\n",
    "import math\n",
    "\n",
    "_image_center = (image_shape[0] / 2, image_shape[1] / 2)\n",
    "\n",
    "_rotation_list = []\n",
    "for r in range(10,2,-2):\n",
    "    _rotation_list.append(cv2.getRotationMatrix2D(_image_center, r, 1))\n",
    "    _rotation_list.append(cv2.getRotationMatrix2D(_image_center, -r, 1))\n",
    "\n",
    "_translation_list = []\n",
    "# shift up to 10% of image size\n",
    "xrange = math.ceil(image_shape[0] / 10)\n",
    "yrange = math.ceil(image_shape[1] / 10)\n",
    "for y in range(-yrange, yrange, 2):\n",
    "    for x in range(-xrange, xrange, 2):\n",
    "        M = np.float32([\n",
    "            [1, 0, x],\n",
    "            [0, 1, y]\n",
    "        ])\n",
    "        _translation_list.append(M)\n",
    "\n",
    "def do_warps(images, transform_list):\n",
    "    warps = []\n",
    "    for img in images:\n",
    "        for transform in transform_list:\n",
    "            warps.append(cv2.warpAffine(img, transform, img.shape[:2]))\n",
    "    return warps\n",
    "\n",
    "def do_translations(images):\n",
    "    return do_warps(images, _translation_list)\n",
    "\n",
    "def do_rotations(images):\n",
    "    return do_warps(images, _rotation_list)\n",
    "\n",
    "def do_noise(images, out_count = 8):\n",
    "    noisy = []\n",
    "    for img in images:\n",
    "        w,h,d = img.shape\n",
    "        for i in range(out_count):\n",
    "            noise = np.random.normal(0,0.05,(w,h,d))\n",
    "            noised = img + img * noise\n",
    "            noisy.append(noised)\n",
    "    return noisy\n",
    "#\n",
    "### Generate multiple output images based on a single input\n",
    "### Perform various rotations and projections from input image\n",
    "### Input is a single image, output is original + N transformed images\n",
    "### Transforms are multiplicative - N = rotations * translations * noises\n",
    "def random_warp(img):\n",
    "    warped = [img]\n",
    "    \n",
    "    warped = do_rotations(warped)\n",
    "    warped = do_translations(warped)\n",
    "    # noise function is broken in some weird way\n",
    "    # it ends up blowing up AND changing the colorspace of the original?!\n",
    "    #warped = do_noise(warped, 2)\n",
    "    return warped\n",
    "    \n",
    "def compare(img_in):\n",
    "    alts = random_warp(img_in)\n",
    "    \n",
    "    return np.hstack((img_in.squeeze(), alts[0].squeeze(), alts[1].squeeze()))\n",
    "\n",
    "print(\"Random image:\")\n",
    "\n",
    "for i in range(3):\n",
    "    index = random.randint(0, len(train_features) - 1)\n",
    "    image = max_contrast(train_features[index])\n",
    "\n",
    "    plt.figure(figsize=(4,4))\n",
    "    plt.imshow(compare(image))\n"
   ]
  },
  {
   "cell_type": "markdown",
   "metadata": {},
   "source": [
    "### Question 1 \n",
    "\n",
    "_Describe how you preprocessed the data. Why did you choose that technique?_"
   ]
  },
  {
   "cell_type": "markdown",
   "metadata": {},
   "source": [
    "**Answer:**"
   ]
  },
  {
   "cell_type": "markdown",
   "metadata": {},
   "source": [
    "\n",
    "\n",
    "Input images are split into test and training immediately, with approximately 10% of each category being set aside for validation. _(**TODO** should this be a fixed number per category?)_ Remaining images in the training set are processed to increase their quantity 32x via rotation, translation and noise addition (noise not working 2017-01-20).  This is performed by `warpTransform` with values for rotation +/- 5 and translation +/- 10% of image size.  This is substantially similar to [Howard](https://ai2-s2-pdfs.s3.amazonaws.com/d671/75d17c450ab0ac9c256103828f9e9a0acb85.pdf) for the initial image processing step before subsequent scaling and cropping.\n",
    "\n",
    "On input to training or testing, data is processed to maximize contrast. This is performed by transforming to LAB colorspace, running a histogram equalization over the L channel and transforming back to RGB. [Cireșan, et al](http://people.idsia.ch/~juergen/nn2012traffic.pdf) suggests a similar approach, but with additional local histogram equalization and contrast enhancement. "
   ]
  },
  {
   "cell_type": "code",
   "execution_count": null,
   "metadata": {
    "collapsed": true
   },
   "outputs": [],
   "source": [
    "### Generate data additional data (OPTIONAL!)\n",
    "### and split the data into training/validation/testing sets here.\n",
    "### Feel free to use as many code cells as needed."
   ]
  },
  {
   "cell_type": "markdown",
   "metadata": {},
   "source": [
    "### Question 2\n",
    "\n",
    "_Describe how you set up the training, validation and testing data for your model. **Optional**: If you generated additional data, how did you generate the data? Why did you generate the data? What are the differences in the new dataset (with generated data) from the original dataset?_"
   ]
  },
  {
   "cell_type": "markdown",
   "metadata": {},
   "source": [
    "**Answer:**"
   ]
  },
  {
   "cell_type": "code",
   "execution_count": null,
   "metadata": {
    "collapsed": true
   },
   "outputs": [],
   "source": [
    "import tensorflow as tf\n",
    "\n",
    "EPOCHS = 50\n",
    "BATCH_SIZE = 64\n",
    "\n",
    "from tensorflow.contrib.layers import flatten\n",
    "\n",
    "def activate(x):\n",
    "    return tf.nn.relu(x)\n",
    "\n",
    "def pool(layer, pool_size, stride=-1):\n",
    "    if (stride < 0):\n",
    "        stride = pool_size\n",
    "    # TODO: depth for 1?\n",
    "    return tf.nn.max_pool(layer, ksize=[1, pool_size, pool_size, 1], strides=[1, stride, stride, 1], padding='VALID')\n",
    "    \n",
    "\n",
    "def fc_layer(prev_layer, o_size, mu=0, sigma=0.1):\n",
    "    i_size = prev_layer.get_shape()[1].value\n",
    "    layer_weights = tf.Variable(tf.truncated_normal(shape=(i_size, o_size), mean = mu, stddev = sigma))\n",
    "    layer_biases = tf.Variable(tf.zeros(o_size))\n",
    "    return tf.matmul(prev_layer, layer_weights) + layer_biases\n",
    "    \n",
    "def conv_layer(prev_layer, o_depth, k_size=5, stride=1, mu=0, sigma=0.1):\n",
    "    i_depth = prev_layer.get_shape()[3].value\n",
    "    layer_weights = tf.Variable(tf.truncated_normal(shape=(k_size, k_size, i_depth, o_depth), mean = mu, stddev = sigma))\n",
    "    layer_biases = tf.Variable(tf.zeros(o_depth))\n",
    "    return tf.nn.conv2d(prev_layer, layer_weights, strides=[1, stride, stride, 1], padding='VALID') + layer_biases\n",
    "    \n",
    "def LeNet(x, keep_prob):    \n",
    "    # Hyperparameters\n",
    "    mu = 0\n",
    "    sigma = 0.1\n",
    "\n",
    "    # Layer 1: Convolutional. Input = 32x32x3. Output = 28x28x6.\n",
    "    # Pooling. Input = 28x28x6. Output = 14x14x6.\n",
    "    layer1 = activate(conv_layer(x, 6))\n",
    "    layer1 = pool(layer1, 2)\n",
    "\n",
    "    # Layer 2: Convolutional. Output = 10x10x16.\n",
    "    # Pooling. Input = 10x10x16. Output = 5x5x16.\n",
    "    layer2 = activate(conv_layer(layer1, 16))\n",
    "    layer2 = pool(layer2, 2)\n",
    "\n",
    "    # Flatten. Input = 5x5x16. Output = 400.\n",
    "    layer2 = flatten(layer2)    \n",
    "\n",
    "    # Layer 3: Fully Connected. Input = 400. Output = 120.\n",
    "    layer3 = activate(fc_layer(layer2, 120, mu, sigma))\n",
    "\n",
    "    # Layer 4: Fully Connected. Input = 120. Output = 84.\n",
    "    layer4 = activate(fc_layer(layer3, 84, mu, sigma))\n",
    "\n",
    "    # Dropout to avoid overfitting\n",
    "    layer4 = tf.nn.dropout(layer4, keep_prob)\n",
    "    \n",
    "    # Layer 5: Fully Connected. Input = 84. Output = 10.\n",
    "    # NO ACTIVATION\n",
    "    logits = fc_layer(layer4, n_classes, mu, sigma)\n",
    "\n",
    "    return logits"
   ]
  },
  {
   "cell_type": "code",
   "execution_count": null,
   "metadata": {
    "collapsed": true
   },
   "outputs": [],
   "source": [
    "# features\n",
    "x = tf.placeholder(tf.float32, (None, image_shape[0], image_shape[1], image_shape[2]))\n",
    "# labels\n",
    "y = tf.placeholder(tf.int32, (None))\n",
    "# dropout\n",
    "k = tf.placeholder(tf.float32, (None))\n",
    "\n",
    "one_hot_y = tf.one_hot(y, n_classes)\n",
    "\n",
    "LEARNING_RATE = 0.001\n",
    "\n",
    "logits = LeNet(x, k)\n",
    "cross_entropy = tf.nn.softmax_cross_entropy_with_logits(logits, one_hot_y)\n",
    "loss_operation = tf.reduce_mean(cross_entropy)\n",
    "optimizer = tf.train.AdamOptimizer(learning_rate = LEARNING_RATE)\n",
    "training_operation = optimizer.minimize(loss_operation)\n",
    "\n",
    "correct_prediction = tf.equal(tf.argmax(logits, 1), tf.argmax(one_hot_y, 1))\n",
    "accuracy_operation = tf.reduce_mean(tf.cast(correct_prediction, tf.float32))\n",
    "saver = tf.train.Saver(max_to_keep = 100, name = 'traffic_signs', restore_sequentially = True)\n",
    "\n",
    "def evaluate(X_data, y_data):\n",
    "    num_examples = len(X_data)\n",
    "    total_accuracy = 0\n",
    "    sess = tf.get_default_session()\n",
    "    for offset in range(0, num_examples, BATCH_SIZE):\n",
    "        batch_x, batch_y = X_data[offset:offset+BATCH_SIZE], y_data[offset:offset+BATCH_SIZE]\n",
    "        accuracy = sess.run(accuracy_operation, feed_dict={x: batch_x, y: batch_y, k: 1.0})\n",
    "        total_accuracy += (accuracy * len(batch_x))\n",
    "    return total_accuracy / num_examples"
   ]
  },
  {
   "cell_type": "markdown",
   "metadata": {},
   "source": [
    "### Question 3\n",
    "\n",
    "_What does your final architecture look like? (Type of model, layers, sizes, connectivity, etc.)  For reference on how to build a deep neural network using TensorFlow, see [Deep Neural Network in TensorFlow\n",
    "](https://classroom.udacity.com/nanodegrees/nd013/parts/fbf77062-5703-404e-b60c-95b78b2f3f9e/modules/6df7ae49-c61c-4bb2-a23e-6527e69209ec/lessons/b516a270-8600-4f93-a0a3-20dfeabe5da6/concepts/83a3a2a2-a9bd-4b7b-95b0-eb924ab14432) from the classroom._\n"
   ]
  },
  {
   "cell_type": "markdown",
   "metadata": {},
   "source": [
    "**Answer:**"
   ]
  },
  {
   "cell_type": "code",
   "execution_count": null,
   "metadata": {
    "collapsed": false
   },
   "outputs": [],
   "source": [
    "from sklearn.utils import shuffle\n",
    "\n",
    "VALIDATION_SET_PERCENT = 10\n",
    "validation_set_size = math.floor(len(train_features) * (VALIDATION_SET_PERCENT / 100))\n",
    "\n",
    "best_accuracy = 0.0\n",
    "DROPOUT_KEEP_PROB = 0.5\n",
    "\n",
    "with tf.Session() as sess:\n",
    "    sess.run(tf.global_variables_initializer())\n",
    "    \n",
    "    print(\"Training...\")\n",
    "    print()\n",
    "    for i in range(1, EPOCHS + 1):\n",
    "        train_features, train_labels = shuffle(train_features, train_labels)\n",
    "\n",
    "        X_validation, y_validation = train_features[:validation_set_size], train_labels[:validation_set_size]\n",
    "        X_train, y_train = train_features[validation_set_size:], train_labels[validation_set_size:]\n",
    "        \n",
    "        # DO DATA EXPANSION HERE\n",
    "        \n",
    "        num_examples = len(X_train)\n",
    "\n",
    "        for offset in range(0, num_examples, BATCH_SIZE):\n",
    "            end = offset + BATCH_SIZE\n",
    "            batch_x, batch_y = X_train[offset:end], y_train[offset:end]\n",
    "            sess.run(training_operation, feed_dict={x: batch_x, y: batch_y, k: DROPOUT_KEEP_PROB})\n",
    "\n",
    "        saver.save(sess, TENSOR_PATH + 'traffic_sign_TEST')\n",
    "        validation_accuracy = evaluate(X_validation, y_validation)\n",
    "        test_accuracy = evaluate(X_test, y_test)\n",
    "        saver.restore(sess, TENSOR_PATH + 'traffic_sign_TEST')\n",
    "        \n",
    "        print(\"EPOCH {}, Validation Accuracy = {:.1f}, Test Accuracy = {:.1f}\".format(i, validation_accuracy * 100, test_accuracy * 100))\n",
    "\n",
    "        if validation_accuracy > best_accuracy:\n",
    "            best_accuracy = validation_accuracy\n",
    "            saver.save(sess, TENSOR_PATH + 'best', global_step = i)\n",
    "            print(\"Improved model saved\")\n",
    "\n",
    "        print()\n",
    "\n",
    "    # keep this in session\n",
    "    saver.save(sess, TENSOR_PATH + 'final')\n",
    "    print(\"Final model saved\")\n",
    "\n",
    "print(\"Final accuracy = {:.1f}, best = {:.1f}\".format(validation_accuracy * 100, best_accuracy * 100))\n"
   ]
  },
  {
   "cell_type": "markdown",
   "metadata": {},
   "source": [
    "### Question 4\n",
    "\n",
    "_How did you train your model? (Type of optimizer, batch size, epochs, hyperparameters, etc.)_\n"
   ]
  },
  {
   "cell_type": "markdown",
   "metadata": {},
   "source": [
    "**Answer:**\n",
    "\n",
    "reference http://sebastianruder.com/optimizing-gradient-descent/index.html#visualizationofalgorithms for selecting optimizer (use the one we had before, but confirmed it's probably the best). Batch size"
   ]
  },
  {
   "cell_type": "markdown",
   "metadata": {},
   "source": [
    "### Question 5\n",
    "\n",
    "\n",
    "_What approach did you take in coming up with a solution to this problem? It may have been a process of trial and error, in which case, outline the steps you took to get to the final solution and why you chose those steps. Perhaps your solution involved an already well known implementation or architecture. In this case, discuss why you think this is suitable for the current problem._"
   ]
  },
  {
   "cell_type": "markdown",
   "metadata": {},
   "source": [
    "**Answer:**"
   ]
  },
  {
   "cell_type": "markdown",
   "metadata": {},
   "source": [
    "---\n",
    "\n",
    "## Step 3: Test a Model on New Images\n",
    "\n",
    "Take several pictures of traffic signs that you find on the web or around you (at least five), and run them through your classifier on your computer to produce example results. The classifier might not recognize some local signs but it could prove interesting nonetheless.\n",
    "\n",
    "You may find `signnames.csv` useful as it contains mappings from the class id (integer) to the actual sign name."
   ]
  },
  {
   "cell_type": "markdown",
   "metadata": {},
   "source": [
    "### Implementation\n",
    "\n",
    "Use the code cell (or multiple code cells, if necessary) to implement the first step of your project. Once you have completed your implementation and are satisfied with the results, be sure to thoroughly answer the questions that follow."
   ]
  },
  {
   "cell_type": "code",
   "execution_count": null,
   "metadata": {
    "collapsed": true
   },
   "outputs": [],
   "source": [
    "### Load the images and plot them here.\n",
    "### Feel free to use as many code cells as needed."
   ]
  },
  {
   "cell_type": "markdown",
   "metadata": {},
   "source": [
    "### Question 6\n",
    "\n",
    "_Choose five candidate images of traffic signs and provide them in the report. Are there any particular qualities of the image(s) that might make classification difficult? It could be helpful to plot the images in the notebook._\n",
    "\n"
   ]
  },
  {
   "cell_type": "markdown",
   "metadata": {},
   "source": [
    "**Answer:**"
   ]
  },
  {
   "cell_type": "code",
   "execution_count": null,
   "metadata": {
    "collapsed": true
   },
   "outputs": [],
   "source": [
    "### Run the predictions here.\n",
    "### Feel free to use as many code cells as needed."
   ]
  },
  {
   "cell_type": "markdown",
   "metadata": {},
   "source": [
    "### Question 7\n",
    "\n",
    "_Is your model able to perform equally well on captured pictures when compared to testing on the dataset? The simplest way to do this check the accuracy of the predictions. For example, if the model predicted 1 out of 5 signs correctly, it's 20% accurate._\n",
    "\n",
    "_**NOTE:** You could check the accuracy manually by using `signnames.csv` (same directory). This file has a mapping from the class id (0-42) to the corresponding sign name. So, you could take the class id the model outputs, lookup the name in `signnames.csv` and see if it matches the sign from the image._\n"
   ]
  },
  {
   "cell_type": "markdown",
   "metadata": {},
   "source": [
    "**Answer:**"
   ]
  },
  {
   "cell_type": "code",
   "execution_count": null,
   "metadata": {
    "collapsed": true
   },
   "outputs": [],
   "source": [
    "### Visualize the softmax probabilities here.\n",
    "### Feel free to use as many code cells as needed."
   ]
  },
  {
   "cell_type": "markdown",
   "metadata": {},
   "source": [
    "### Question 8\n",
    "\n",
    "*Use the model's softmax probabilities to visualize the **certainty** of its predictions, [`tf.nn.top_k`](https://www.tensorflow.org/versions/r0.12/api_docs/python/nn.html#top_k) could prove helpful here. Which predictions is the model certain of? Uncertain? If the model was incorrect in its initial prediction, does the correct prediction appear in the top k? (k should be 5 at most)*\n",
    "\n",
    "`tf.nn.top_k` will return the values and indices (class ids) of the top k predictions. So if k=3, for each sign, it'll return the 3 largest probabilities (out of a possible 43) and the correspoding class ids.\n",
    "\n",
    "Take this numpy array as an example:\n",
    "\n",
    "```\n",
    "# (5, 6) array\n",
    "a = np.array([[ 0.24879643,  0.07032244,  0.12641572,  0.34763842,  0.07893497,\n",
    "         0.12789202],\n",
    "       [ 0.28086119,  0.27569815,  0.08594638,  0.0178669 ,  0.18063401,\n",
    "         0.15899337],\n",
    "       [ 0.26076848,  0.23664738,  0.08020603,  0.07001922,  0.1134371 ,\n",
    "         0.23892179],\n",
    "       [ 0.11943333,  0.29198961,  0.02605103,  0.26234032,  0.1351348 ,\n",
    "         0.16505091],\n",
    "       [ 0.09561176,  0.34396535,  0.0643941 ,  0.16240774,  0.24206137,\n",
    "         0.09155967]])\n",
    "```\n",
    "\n",
    "Running it through `sess.run(tf.nn.top_k(tf.constant(a), k=3))` produces:\n",
    "\n",
    "```\n",
    "TopKV2(values=array([[ 0.34763842,  0.24879643,  0.12789202],\n",
    "       [ 0.28086119,  0.27569815,  0.18063401],\n",
    "       [ 0.26076848,  0.23892179,  0.23664738],\n",
    "       [ 0.29198961,  0.26234032,  0.16505091],\n",
    "       [ 0.34396535,  0.24206137,  0.16240774]]), indices=array([[3, 0, 5],\n",
    "       [0, 1, 4],\n",
    "       [0, 5, 1],\n",
    "       [1, 3, 5],\n",
    "       [1, 4, 3]], dtype=int32))\n",
    "```\n",
    "\n",
    "Looking just at the first row we get `[ 0.34763842,  0.24879643,  0.12789202]`, you can confirm these are the 3 largest probabilities in `a`. You'll also notice `[3, 0, 5]` are the corresponding indices."
   ]
  },
  {
   "cell_type": "markdown",
   "metadata": {},
   "source": [
    "**Answer:**"
   ]
  },
  {
   "cell_type": "markdown",
   "metadata": {},
   "source": [
    "> **Note**: Once you have completed all of the code implementations and successfully answered each question above, you may finalize your work by exporting the iPython Notebook as an HTML document. You can do this by using the menu above and navigating to  \\n\",\n",
    "    \"**File -> Download as -> HTML (.html)**. Include the finished document along with this notebook as your submission."
   ]
  },
  {
   "cell_type": "code",
   "execution_count": null,
   "metadata": {
    "collapsed": true
   },
   "outputs": [],
   "source": []
  }
 ],
 "metadata": {
  "anaconda-cloud": {},
  "kernelspec": {
   "display_name": "Python [conda env:CarND-Traffic-Sign-Classifier-Project]",
   "language": "python",
   "name": "conda-env-CarND-Traffic-Sign-Classifier-Project-py"
  },
  "language_info": {
   "codemirror_mode": {
    "name": "ipython",
    "version": 3
   },
   "file_extension": ".py",
   "mimetype": "text/x-python",
   "name": "python",
   "nbconvert_exporter": "python",
   "pygments_lexer": "ipython3",
   "version": "3.5.2"
  }
 },
 "nbformat": 4,
 "nbformat_minor": 1
}
